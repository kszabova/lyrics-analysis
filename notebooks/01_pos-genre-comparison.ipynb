{
 "cells": [
  {
   "cell_type": "markdown",
   "metadata": {
    "collapsed": true,
    "pycharm": {
     "name": "#%% md\n"
    }
   },
   "source": [
    "This notebook will use the proportion of content words to show\n",
    "differences between genres. To do this, we will use the function\n",
    "proportion_content_words defined in the lyrics_analysis.evaluation\n",
    "module."
   ]
  },
  {
   "cell_type": "markdown",
   "source": [
    "First, let's define a generator that will retrieve song lyrics and\n",
    "genre from a file."
   ],
   "metadata": {
    "collapsed": false,
    "pycharm": {
     "name": "#%% md\n"
    }
   }
  },
  {
   "cell_type": "code",
   "execution_count": null,
   "outputs": [],
   "source": [
    "import ijson\n",
    "\n",
    "def retrieve_lyrics_and_genre(file):\n",
    "    with open(file) as f:\n",
    "        songs = ijson.items(f, 'item')\n",
    "        for song in songs:\n",
    "            yield song[\"lyrics\"], song[\"genre\"]\n",
    "            "
   ],
   "metadata": {
    "collapsed": false,
    "pycharm": {
     "name": "#%%\n",
     "is_executing": false
    }
   }
  },
  {
   "cell_type": "markdown",
   "source": [
    "The dataset contains the genres rap, pop, rock, r&b and country. It is\n",
    "possible that not all will be present in a randomly selected subset."
   ],
   "metadata": {
    "collapsed": false,
    "pycharm": {
     "name": "#%% md\n"
    }
   }
  },
  {
   "cell_type": "markdown",
   "source": [
    "Define a dictionary that will store lists of metrics calculated\n",
    "for songs of each genre."
   ],
   "metadata": {
    "collapsed": false,
    "pycharm": {
     "name": "#%% md\n"
    }
   }
  },
  {
   "cell_type": "code",
   "execution_count": 2,
   "outputs": [],
   "source": [
    "content_words_by_genre = {\n",
    "    \"rap\": [],\n",
    "    \"pop\": [],\n",
    "    \"rock\": [],\n",
    "    \"r-b\": [],\n",
    "    \"country\": []\n",
    "}"
   ],
   "metadata": {
    "collapsed": false,
    "pycharm": {
     "name": "#%%\n",
     "is_executing": false
    }
   }
  },
  {
   "cell_type": "markdown",
   "source": [
    "Now, calculate the proportion of content words for all songs from\n",
    "the set of 10,000 songs."
   ],
   "metadata": {
    "collapsed": false,
    "pycharm": {
     "name": "#%% md\n"
    }
   }
  },
  {
   "cell_type": "code",
   "execution_count": 3,
   "outputs": [],
   "source": [
    "import lyrics_analysis.evaluation\n",
    "\n",
    "for lyrics, genre in retrieve_lyrics_and_genre(\"../data/cleaned/eval_set_10000_lyrics.json\"):\n",
    "    score = lyrics_analysis.evaluation.proportion_content_words(lyrics)\n",
    "    content_words_by_genre[genre].append(score)\n",
    "    "
   ],
   "metadata": {
    "collapsed": false,
    "pycharm": {
     "name": "#%%\n",
     "is_executing": false
    }
   }
  },
  {
   "cell_type": "markdown",
   "source": [
    "Let's look at the average score for each genre."
   ],
   "metadata": {
    "collapsed": false,
    "pycharm": {
     "name": "#%% md\n"
    }
   }
  },
  {
   "cell_type": "code",
   "execution_count": 4,
   "outputs": [
    {
     "name": "stdout",
     "text": [
      "rap 0.5403462426299994\n",
      "pop 0.5203578457722984\n",
      "rock 0.5196528536315541\n",
      "r-b 0.5296739261591198\n",
      "country 0.5240168829581048\n"
     ],
     "output_type": "stream"
    }
   ],
   "source": [
    "for genre, scores in content_words_by_genre.items():\n",
    "    print(genre, sum(scores) / len(scores))\n",
    "    "
   ],
   "metadata": {
    "collapsed": false,
    "pycharm": {
     "name": "#%%\n",
     "is_executing": false
    }
   }
  },
  {
   "cell_type": "markdown",
   "source": [
    "To get a better understanding of how data is distributed, we will use\n",
    "matplotlib to plot a histogram for each genre.\n"
   ],
   "metadata": {
    "collapsed": false,
    "pycharm": {
     "name": "#%% md\n"
    }
   }
  },
  {
   "cell_type": "code",
   "execution_count": 5,
   "outputs": [],
   "source": [
    "import matplotlib.pyplot as plt\n",
    "%matplotlib inline"
   ],
   "metadata": {
    "collapsed": false,
    "pycharm": {
     "name": "#%%\n",
     "is_executing": false
    }
   }
  },
  {
   "cell_type": "code",
   "execution_count": 9,
   "outputs": [
    {
     "data": {
      "text/plain": "Text(0, 0.5, 'n')"
     },
     "metadata": {},
     "output_type": "execute_result",
     "execution_count": 9
    },
    {
     "data": {
      "text/plain": "<Figure size 432x288 with 1 Axes>",
      "image/png": "[encoded data removed]"
     },
     "metadata": {
      "needs_background": "light"
     },
     "output_type": "display_data"
    }
   ],
   "source": [
    "n_bins = 20\n",
    "genres = [\"rap\", \"pop\", \"rock\", \"r-b\", \"country\"]\n",
    "data = [content_words_by_genre[genre] for genre in genres]\n",
    "plt.hist(data, bins=n_bins)\n",
    "plt.legend(genres)\n",
    "plt.xlabel(\"Score\")\n",
    "plt.ylabel(\"n\")\n"
   ],
   "metadata": {
    "collapsed": false,
    "pycharm": {
     "name": "#%%\n",
     "is_executing": false
    }
   }
  },
  {
   "cell_type": "markdown",
   "source": [
    "We can see that the differences between individual genres are not very\n",
    "large."
   ],
   "metadata": {
    "collapsed": false,
    "pycharm": {
     "name": "#%% md\n"
    }
   }
  }
 ],
 "metadata": {
  "kernelspec": {
   "display_name": "Python 3",
   "language": "python",
   "name": "python3"
  },
  "language_info": {
   "codemirror_mode": {
    "name": "ipython",
    "version": 2
   },
   "file_extension": ".py",
   "mimetype": "text/x-python",
   "name": "python",
   "nbconvert_exporter": "python",
   "pygments_lexer": "ipython2",
   "version": "2.7.6"
  },
  "pycharm": {
   "stem_cell": {
    "cell_type": "raw",
    "source": [],
    "metadata": {
     "collapsed": false
    }
   }
  }
 },
 "nbformat": 4,
 "nbformat_minor": 0
}