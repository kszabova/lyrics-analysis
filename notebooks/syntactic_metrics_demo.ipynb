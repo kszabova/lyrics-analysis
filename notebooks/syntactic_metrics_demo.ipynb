{
 "cells": [
  {
   "cell_type": "markdown",
   "metadata": {
    "pycharm": {
     "name": "#%% md\n"
    }
   },
   "source": [
    "In this notebook, we will calculate some metrics on song lyrics and news articles."
   ]
  },
  {
   "cell_type": "code",
   "execution_count": 2,
   "metadata": {
    "pycharm": {
     "name": "#%%\n",
     "is_executing": false
    }
   },
   "outputs": [],
   "source": [
    "import lyrics_analysis"
   ]
  },
  {
   "cell_type": "markdown",
   "source": [
    "First, let's count unique words in the set of 1000 random songs."
   ],
   "metadata": {
    "collapsed": false,
    "pycharm": {
     "name": "#%% md\n"
    }
   }
  },
  {
   "cell_type": "code",
   "execution_count": 4,
   "outputs": [],
   "source": [
    "import ijson\n",
    "\n",
    "# create a generator that will yield all the song lyrics\n",
    "def generate_lyrics():\n",
    "    with open(\"../data/cleaned/eval_set_1000_lyrics.json\") as file:\n",
    "        songs = ijson.items(file, \"item\")\n",
    "        for song in songs:\n",
    "            yield song[\"lyrics\"], song[\"genre\"]\n",
    "            \n",
    "# now count unique words in each song and save the result\n",
    "unique_word_counts = []\n",
    "for lyrics, _ in generate_lyrics():\n",
    "    score = lyrics_analysis.evaluation.count_unique_words(lyrics)\n",
    "    unique_word_counts.append(score)\n",
    "    "
   ],
   "metadata": {
    "collapsed": false,
    "pycharm": {
     "name": "#%%\n",
     "is_executing": false
    }
   }
  },
  {
   "cell_type": "markdown",
   "source": [
    "Now, let's look at the first few scores."
   ],
   "metadata": {
    "collapsed": false,
    "pycharm": {
     "name": "#%% md\n"
    }
   }
  },
  {
   "cell_type": "code",
   "execution_count": 3,
   "outputs": [
    {
     "data": {
      "text/plain": "[200,\n 51,\n 81,\n 140,\n 110,\n 212,\n 69,\n 52,\n 70,\n 103,\n 151,\n 43,\n 82,\n 44,\n 105,\n 87,\n 136,\n 86,\n 292,\n 102,\n 113,\n 151,\n 124,\n 267,\n 118,\n 105,\n 72,\n 85,\n 30,\n 74]"
     },
     "metadata": {},
     "output_type": "execute_result",
     "execution_count": 3
    }
   ],
   "source": [
    "unique_word_counts[:30]"
   ],
   "metadata": {
    "collapsed": false,
    "pycharm": {
     "name": "#%%\n",
     "is_executing": false
    }
   }
  },
  {
   "cell_type": "markdown",
   "source": [
    "Calculate the average number of unique words."
   ],
   "metadata": {
    "collapsed": false,
    "pycharm": {
     "name": "#%% md\n"
    }
   }
  },
  {
   "cell_type": "code",
   "execution_count": 4,
   "outputs": [
    {
     "data": {
      "text/plain": "170.846"
     },
     "metadata": {},
     "output_type": "execute_result",
     "execution_count": 4
    }
   ],
   "source": [
    "sum(unique_word_counts) / len(unique_word_counts)"
   ],
   "metadata": {
    "collapsed": false,
    "pycharm": {
     "name": "#%%\n",
     "is_executing": false
    }
   }
  },
  {
   "cell_type": "markdown",
   "source": [
    "Do the same but for the proportion meaningful (what's the word?) words."
   ],
   "metadata": {
    "collapsed": false,
    "pycharm": {
     "name": "#%% md\n"
    }
   }
  },
  {
   "cell_type": "code",
   "execution_count": 5,
   "outputs": [
    {
     "name": "stdout",
     "text": [
      "[0.5558823529411765, 0.40119760479041916, 0.5488721804511278, 0.5422222222222223, 0.501577287066246, 0.4343891402714932, 0.5433962264150943, 0.5975609756097561, 0.48580441640378547, 0.4808510638297872, 0.5669291338582677, 0.4528301886792453, 0.6090909090909091, 0.6078431372549019, 0.5472636815920398, 0.4980237154150198, 0.4956896551724138, 0.48951048951048953, 0.5440677966101695, 0.5596330275229358, 0.5612745098039216, 0.5298804780876494, 0.5729166666666666, 0.4977843426883309, 0.5307017543859649, 0.5136363636363637, 0.5942622950819673, 0.46779661016949153, 0.44155844155844154, 0.5174418604651163]\n",
      "0.5310589055152487\n"
     ],
     "output_type": "stream"
    }
   ],
   "source": [
    "meaningful_words = []\n",
    "for lyrics in generate_lyrics():\n",
    "    score = lyrics_analysis.evaluation.proportion_parts_of_speech(lyrics)\n",
    "    meaningful_words.append(score)\n",
    "    \n",
    "print(meaningful_words[:30])\n",
    "print(sum(meaningful_words) / len(meaningful_words))"
   ],
   "metadata": {
    "collapsed": false,
    "pycharm": {
     "name": "#%%\n",
     "is_executing": false
    }
   }
  },
  {
   "cell_type": "markdown",
   "source": [
    "Compare the results to random texts."
   ],
   "metadata": {
    "collapsed": false,
    "pycharm": {
     "name": "#%% md\n"
    }
   }
  },
  {
   "cell_type": "code",
   "execution_count": 8,
   "outputs": [
    {
     "name": "stdout",
     "text": [
      "Average unique words:  434.433\n",
      "Average proportion of meaningful words:  0.5284735824249588\n"
     ],
     "output_type": "stream"
    }
   ],
   "source": [
    "def generate_texts():\n",
    "    with open(\"../data/cleaned/eval_set_1000_random.json\") as file:\n",
    "        songs = ijson.items(file, \"item\")\n",
    "        for song in songs:\n",
    "            yield song[\"lyrics\"]\n",
    "            \n",
    "unique_word_counts_random = []\n",
    "meaningful_words_random = []\n",
    "for lyrics in generate_texts():\n",
    "    unique = lyrics_analysis.evaluation.count_unique_words(lyrics)\n",
    "    meaningful = lyrics_analysis.evaluation.proportion_parts_of_speech(lyrics)\n",
    "    unique_word_counts_random.append(unique)\n",
    "    meaningful_words_random.append(meaningful)\n",
    "    \n",
    "print(\"Average unique words: \", sum(unique_word_counts_random) / len(unique_word_counts_random))\n",
    "print(\"Average proportion of meaningful words: \", sum(meaningful_words_random) / len(meaningful_words_random))\n"
   ],
   "metadata": {
    "collapsed": false,
    "pycharm": {
     "name": "#%%\n",
     "is_executing": false
    }
   }
  },
  {
   "cell_type": "markdown",
   "source": [
    "Compare pop vs rap songs"
   ],
   "metadata": {
    "collapsed": false,
    "pycharm": {
     "name": "#%% md\n"
    }
   }
  },
  {
   "cell_type": "code",
   "execution_count": 7,
   "outputs": [],
   "source": [
    "content_words_pop = []\n",
    "content_words_rap = []\n",
    "for lyrics, genre in generate_lyrics():\n",
    "    score = lyrics_analysis.evaluation.proportion_parts_of_speech(lyrics)\n",
    "    if genre == \"pop\":\n",
    "        content_words_pop.append(score)\n",
    "    elif genre == \"rap\":\n",
    "        content_words_rap.append(score)\n",
    "        \n",
    "    "
   ],
   "metadata": {
    "collapsed": false,
    "pycharm": {
     "name": "#%%\n",
     "is_executing": false
    }
   }
  },
  {
   "cell_type": "code",
   "execution_count": 8,
   "outputs": [
    {
     "name": "stdout",
     "text": [
      "pop: 0.5224621089975695\n",
      "rap: 0.5407799126688126\n"
     ],
     "output_type": "stream"
    }
   ],
   "source": [
    "print(\"pop:\", sum(content_words_pop)/len(content_words_pop))\n",
    "print(\"rap:\", sum(content_words_rap)/len(content_words_rap))\n"
   ],
   "metadata": {
    "collapsed": false,
    "pycharm": {
     "name": "#%%\n",
     "is_executing": false
    }
   }
  }
 ],
 "metadata": {
  "kernelspec": {
   "display_name": "Python 3",
   "language": "python",
   "name": "python3"
  },
  "language_info": {
   "codemirror_mode": {
    "name": "ipython",
    "version": 3
   },
   "file_extension": ".py",
   "mimetype": "text/x-python",
   "name": "python",
   "nbconvert_exporter": "python",
   "pygments_lexer": "ipython3",
   "version": "3.7.1"
  },
  "pycharm": {
   "stem_cell": {
    "cell_type": "raw",
    "source": [],
    "metadata": {
     "collapsed": false
    }
   }
  }
 },
 "nbformat": 4,
 "nbformat_minor": 2
}