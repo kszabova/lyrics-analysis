{
 "cells": [
  {
   "cell_type": "markdown",
   "metadata": {
    "collapsed": true,
    "pycharm": {
     "name": "#%% md\n"
    }
   },
   "source": [
    "# Comparing expected proportion of rhymes in a song to the computed proportion\n",
    "\n",
    "In this notebook, we will use the function rhymes() from \n",
    "the evaluation submodule of lyrics_analysis to compute \n",
    "the proportion of rhyming lines.\n",
    "\n",
    "We will use the song \"Ode to the Mets\" by The Strokes\n",
    "as an example lyrics. The lyrics can be found in the\n",
    "file example1.json in the data directory. The song \n",
    "itself doesn't contain a large number of rhymes.\n",
    "\n",
    "Here are the pairs of rhyming words at the end of lines\n",
    "determined by me. I picked not only the rhymes that follow\n",
    "some precise rules, but also those that 'feel' as if\n",
    "they rhyme:\n",
    "\n",
    "(do, you), (good, should), (back, attack),\n",
    "(mind, fine), (alone, alone), (alone, alone), \n",
    "(heart, right), (forgotten, bottom).\n",
    "\n",
    "The total proportion of rhyming lines is therefore\n",
    "16 / 43 ~ 0.37.\n",
    "\n",
    "Let's see how many rhymes the function finds:"
   ]
  },
  {
   "cell_type": "code",
   "execution_count": 1,
   "outputs": [
    {
     "name": "stderr",
     "text": [
      "c:\\users\\kristina\\appdata\\local\\programs\\python\\python37\\lib\\site-packages\\ipykernel\\parentpoller.py:116: UserWarning: Parent poll failed.  If the frontend dies,\n",
      "                the kernel may be left running.  Please let us know\n",
      "                about your system (bitness, Python, etc.) at\n",
      "                ipython-dev@scipy.org\n",
      "  ipython-dev@scipy.org\"\"\")\n"
     ],
     "output_type": "stream"
    }
   ],
   "source": [
    "# load the song\n",
    "import json\n",
    "from lyrics_analysis import Song\n",
    "\n",
    "with open('../data/example1.json') as file:\n",
    "    song_json = json.load(file)\n",
    "song = Song(song_json[\"lyrics\"], song_json[\"genre\"], song_json[\"artist\"])"
   ],
   "metadata": {
    "collapsed": false,
    "pycharm": {
     "name": "#%%\n",
     "is_executing": false
    }
   }
  },
  {
   "cell_type": "code",
   "execution_count": 2,
   "outputs": [
    {
     "data": {
      "text/plain": "0.2558139534883721"
     },
     "metadata": {},
     "output_type": "execute_result",
     "execution_count": 2
    }
   ],
   "source": [
    "from lyrics_analysis.evaluation import rhymes\n",
    "\n",
    "rhymes(song.lyrics, rhyme_level=2)"
   ],
   "metadata": {
    "collapsed": false,
    "pycharm": {
     "name": "#%%\n",
     "is_executing": false
    }
   }
  },
  {
   "cell_type": "markdown",
   "source": [
    "We see that the function found about two thirds of\n",
    "human-determined rhymes. Let's define a new function\n",
    "that does the same thing as rhymes, except it also prints\n",
    "rhyming lines, to see where it disagrees."
   ],
   "metadata": {
    "collapsed": false,
    "pycharm": {
     "name": "#%% md\n"
    }
   }
  },
  {
   "cell_type": "code",
   "execution_count": 3,
   "outputs": [],
   "source": [
    "from lyrics_analysis import helpers\n",
    "import nltk\n",
    "\n",
    "ARPABET = nltk.corpus.cmudict.dict()\n",
    "def rhymes_debug(lyrics, rhyme_level=2, max_distance=2, arpabet=ARPABET):\n",
    "    last_words = [word.lower() for word in helpers._get_last_words(lyrics)]\n",
    "    base_last_phonemes = helpers._get_last_n_phonemes(last_words, rhyme_level, arpabet)\n",
    "    last_phonemes = []\n",
    "    for base_pron in base_last_phonemes:\n",
    "        for pron in helpers._get_alternative_pronunciations(base_pron):\n",
    "            last_phonemes.append(pron)\n",
    "\n",
    "    # store all rhyming lines in a dictionary\n",
    "    rhyming_lines = {}\n",
    "    for i, prons in enumerate(last_phonemes):\n",
    "        for pron in prons:\n",
    "            rhyming_lines[pron] = rhyming_lines.get(pron, [])\n",
    "            rhyming_lines[pron].append(i)\n",
    "\n",
    "    # add a point for each line that rhymes with a line at at most max_distance\n",
    "    rhyme_count = 0\n",
    "    for i, prons in enumerate(last_phonemes):\n",
    "        considered_lines = [i - d for d in range(1, max_distance + 1)] + \\\n",
    "                           [i + d for d in range(1, max_distance + 1)]\n",
    "        for pron in prons:\n",
    "            if set(rhyming_lines[pron]).intersection(set(considered_lines)):\n",
    "                # this is the added code\n",
    "                # print the number of line where a rhymes was found\n",
    "                print(i)\n",
    "                rhyme_count += 1\n",
    "                break\n",
    "\n",
    "    # calculate the proportion of rhyming lines\n",
    "    return rhyme_count / len(last_words)"
   ],
   "metadata": {
    "collapsed": false,
    "pycharm": {
     "name": "#%% \n",
     "is_executing": false
    }
   }
  },
  {
   "cell_type": "markdown",
   "source": [
    "Now, use the function on the song lyrics."
   ],
   "metadata": {
    "collapsed": false,
    "pycharm": {
     "name": "#%% md\n"
    }
   }
  },
  {
   "cell_type": "code",
   "execution_count": 4,
   "outputs": [
    {
     "name": "stdout",
     "text": [
      "3\n",
      "5\n",
      "6\n",
      "7\n",
      "8\n",
      "9\n",
      "19\n",
      "20\n",
      "21\n",
      "22\n",
      "24\n"
     ],
     "output_type": "stream"
    },
    {
     "data": {
      "text/plain": "0.2558139534883721"
     },
     "metadata": {},
     "output_type": "execute_result",
     "execution_count": 4
    }
   ],
   "source": [
    "rhymes_debug(song.lyrics)"
   ],
   "metadata": {
    "collapsed": false,
    "pycharm": {
     "name": "#%%\n",
     "is_executing": false
    }
   }
  },
  {
   "cell_type": "markdown",
   "source": [
    "The rhyming words found by the function were the following:\n",
    "you, you, good, should, back, attack, alone, alone, alone,\n",
    "alone, phone.\n",
    "\n",
    "The rhymes that were not detected were: (do, you), \n",
    "(mind, fine), (heart, right) and (bottom, forgotten), \n",
    "which was expected, since they only really rhyme when\n",
    "sung.\n",
    "\n",
    "On the other hand, it detected the word phone (which rhymes\n",
    "with alone). A human would probably not mark this as \n",
    "a rhyme, as the words are far from each other and,\n",
    "additionally, there is a musical interlude between the\n",
    "verses.\n",
    "\n",
    "In conclusion, the function performs decently,\n",
    "detecting most proper rhymes.\n"
   ],
   "metadata": {
    "collapsed": false,
    "pycharm": {
     "name": "#%% md\n"
    }
   }
  }
 ],
 "metadata": {
  "kernelspec": {
   "display_name": "Python 3",
   "language": "python",
   "name": "python3"
  },
  "language_info": {
   "codemirror_mode": {
    "name": "ipython",
    "version": 2
   },
   "file_extension": ".py",
   "mimetype": "text/x-python",
   "name": "python",
   "nbconvert_exporter": "python",
   "pygments_lexer": "ipython2",
   "version": "2.7.6"
  },
  "pycharm": {
   "stem_cell": {
    "cell_type": "raw",
    "source": [],
    "metadata": {
     "collapsed": false
    }
   }
  }
 },
 "nbformat": 4,
 "nbformat_minor": 0
}