{
 "cells": [
  {
   "cell_type": "markdown",
   "metadata": {
    "collapsed": true,
    "pycharm": {
     "name": "#%% md\n"
    }
   },
   "source": [
    "# Evaluate performance of rhyme metric\n",
    "\n",
    "The goal of this notebook is to see how well the rhyme metric performs.\n",
    "To evaluate the performance, we will use the metric on a set of randomly\n",
    "selected songs with their lyrics unchanged and on two sets with modified\n",
    "lyrics.\n",
    "\n",
    "The lyrics modifications will be the following:\n",
    "* removing the last word of random lines\n",
    "* replacing the last word of random lines with another word\n",
    "\n",
    "The modified datasets are stored in the data/cleaned/ directory. They were\n",
    "generated using the functions `replace_last_words_on_line` and\n",
    "`remove_last_word_on_line` from the `lyrics_analysis.modifications` module.\n",
    "We used the probability 0.5 to modify a line and in the former case,\n",
    "the words used to replace the original words were porcupine, armadillo\n",
    "and anteater.\n",
    "\n",
    "We will then compare the scores to scores generated randomly.\n"
   ]
  },
  {
   "cell_type": "code",
   "execution_count": 1,
   "outputs": [
    {
     "name": "stderr",
     "text": [
      "c:\\users\\kristina\\appdata\\local\\programs\\python\\python37\\lib\\site-packages\\ipykernel\\parentpoller.py:116: UserWarning: Parent poll failed.  If the frontend dies,\n",
      "                the kernel may be left running.  Please let us know\n",
      "                about your system (bitness, Python, etc.) at\n",
      "                ipython-dev@scipy.org\n",
      "  ipython-dev@scipy.org\"\"\")\n"
     ],
     "output_type": "stream"
    }
   ],
   "source": [
    "# imports\n",
    "import ijson\n",
    "import matplotlib.pyplot as plt\n",
    "%matplotlib inline\n",
    "\n",
    "from lyrics_analysis import Song\n",
    "from lyrics_analysis import evaluation\n"
   ],
   "metadata": {
    "collapsed": false,
    "pycharm": {
     "name": "#%%\n",
     "is_executing": false
    }
   }
  },
  {
   "cell_type": "markdown",
   "source": [
    "Define a generator that will generate song objects."
   ],
   "metadata": {
    "collapsed": false,
    "pycharm": {
     "name": "#%% md\n"
    }
   }
  },
  {
   "cell_type": "code",
   "execution_count": 2,
   "outputs": [],
   "source": [
    "def retrieve_songs(file):\n",
    "    with open(file) as f:\n",
    "        songs = ijson.items(f, 'item')\n",
    "        for song in songs:\n",
    "            yield Song(\n",
    "                song[\"lyrics\"], song[\"genre\"], song[\"artist\"], song[\"title\"]\n",
    "            )\n"
   ],
   "metadata": {
    "collapsed": false,
    "pycharm": {
     "name": "#%%\n",
     "is_executing": false
    }
   }
  },
  {
   "cell_type": "markdown",
   "source": [
    "Define a dictionary that will store the scores.\n"
   ],
   "metadata": {
    "collapsed": false,
    "pycharm": {
     "name": "#%% md\n"
    }
   }
  },
  {
   "cell_type": "code",
   "execution_count": 3,
   "outputs": [],
   "source": [
    "scores = {\n",
    "    \"original_rhymes\": [],\n",
    "    \"original_random\": [],\n",
    "    \"removed_rhymes\": [],\n",
    "    \"removed_random\": [],\n",
    "    \"replaced_rhymes\": [],\n",
    "    \"replaced_random\": []\n",
    "}\n"
   ],
   "metadata": {
    "collapsed": false,
    "pycharm": {
     "name": "#%%\n",
     "is_executing": false
    }
   }
  },
  {
   "cell_type": "markdown",
   "source": [
    "Now, calculate the scores. We will use the datasets of size 10000.\n"
   ],
   "metadata": {
    "collapsed": false,
    "pycharm": {
     "name": "#%% md\n"
    }
   }
  },
  {
   "cell_type": "code",
   "execution_count": 4,
   "outputs": [],
   "source": [
    "for song in retrieve_songs(\"../data/cleaned/eval_set_10000_lyrics.json\"):\n",
    "    score = evaluation.rhymes(song.lyrics)\n",
    "    scores[\"original_rhymes\"].append(score)\n",
    "    \n",
    "for song in retrieve_songs(\"../data/cleaned/eval_set_10000_lyrics.json\"):\n",
    "    score = evaluation.eval_random(song.lyrics)\n",
    "    scores[\"original_random\"].append(score)\n",
    "    \n",
    "for song in retrieve_songs(\"../data/cleaned/eval_set_10000_removed_words.json\"):\n",
    "    score = evaluation.rhymes(song.lyrics)\n",
    "    scores[\"removed_rhymes\"].append(score)\n",
    "    \n",
    "for song in retrieve_songs(\"../data/cleaned/eval_set_10000_removed_words.json\"):\n",
    "    score = evaluation.eval_random(song.lyrics)\n",
    "    scores[\"removed_random\"].append(score)\n",
    "    \n",
    "for song in retrieve_songs(\"../data/cleaned/eval_set_10000_replaced_words.json\"):\n",
    "    score = evaluation.rhymes(song.lyrics)\n",
    "    scores[\"replaced_rhymes\"].append(score)\n",
    "    \n",
    "for song in retrieve_songs(\"../data/cleaned/eval_set_10000_replaced_words.json\"):\n",
    "    score = evaluation.eval_random(song.lyrics)\n",
    "    scores[\"replaced_random\"].append(score)\n",
    "    "
   ],
   "metadata": {
    "collapsed": false,
    "pycharm": {
     "name": "#%%\n",
     "is_executing": false
    }
   }
  },
  {
   "cell_type": "markdown",
   "source": [
    "Plot the scores to see how rhymes() compares to randomly generated scores.\n"
   ],
   "metadata": {
    "collapsed": false,
    "pycharm": {
     "name": "#%% md\n"
    }
   }
  },
  {
   "cell_type": "code",
   "execution_count": 5,
   "outputs": [
    {
     "data": {
      "text/plain": "Text(0, 0.5, 'n')"
     },
     "metadata": {},
     "output_type": "execute_result",
     "execution_count": 5
    },
    {
     "data": {
      "text/plain": "<Figure size 432x288 with 1 Axes>",
      "image/png": "[encoded data removed]"
     },
     "metadata": {
      "needs_background": "light"
     },
     "output_type": "display_data"
    }
   ],
   "source": [
    "n_bins = 20\n",
    "labels = [\"original_rhymes\", \"original_random\"]\n",
    "data = [scores[label] for label in labels]\n",
    "plt.hist(data, bins=n_bins)\n",
    "plt.legend(labels)\n",
    "plt.xlabel(\"Scores of original lyrics\")\n",
    "plt.ylabel(\"n\")\n"
   ],
   "metadata": {
    "collapsed": false,
    "pycharm": {
     "name": "#%%\n",
     "is_executing": false
    }
   }
  },
  {
   "cell_type": "code",
   "execution_count": 6,
   "outputs": [
    {
     "data": {
      "text/plain": "Text(0, 0.5, 'n')"
     },
     "metadata": {},
     "output_type": "execute_result",
     "execution_count": 6
    },
    {
     "data": {
      "text/plain": "<Figure size 432x288 with 1 Axes>",
      "image/png": "[encoded data removed]"
     },
     "metadata": {
      "needs_background": "light"
     },
     "output_type": "display_data"
    }
   ],
   "source": [
    "n_bins = 20\n",
    "labels = [\"removed_rhymes\", \"removed_random\"]\n",
    "data = [scores[label] for label in labels]\n",
    "plt.hist(data, bins=n_bins)\n",
    "plt.legend(labels)\n",
    "plt.xlabel(\"Scores of lyrics with removed words\")\n",
    "plt.ylabel(\"n\")\n"
   ],
   "metadata": {
    "collapsed": false,
    "pycharm": {
     "name": "#%%\n",
     "is_executing": false
    }
   }
  },
  {
   "cell_type": "code",
   "execution_count": 7,
   "outputs": [
    {
     "data": {
      "text/plain": "Text(0, 0.5, 'n')"
     },
     "metadata": {},
     "output_type": "execute_result",
     "execution_count": 7
    },
    {
     "data": {
      "text/plain": "<Figure size 432x288 with 1 Axes>",
      "image/png": "[encoded data removed]"
     },
     "metadata": {
      "needs_background": "light"
     },
     "output_type": "display_data"
    }
   ],
   "source": [
    "n_bins = 20\n",
    "labels = [\"replaced_rhymes\", \"replaced_random\"]\n",
    "data = [scores[label] for label in labels]\n",
    "plt.hist(data, bins=n_bins)\n",
    "plt.legend(labels)\n",
    "plt.xlabel(\"Scores of lyrics with replaced words\")\n",
    "plt.ylabel(\"n\")\n"
   ],
   "metadata": {
    "collapsed": false,
    "pycharm": {
     "name": "#%%\n",
     "is_executing": false
    }
   }
  },
  {
   "cell_type": "markdown",
   "source": [
    "Finally, compare the rhyme scores of original and modified lyrics.\n"
   ],
   "metadata": {
    "collapsed": false,
    "pycharm": {
     "name": "#%% md\n"
    }
   }
  },
  {
   "cell_type": "code",
   "execution_count": 8,
   "outputs": [
    {
     "data": {
      "text/plain": "Text(0, 0.5, 'n')"
     },
     "metadata": {},
     "output_type": "execute_result",
     "execution_count": 8
    },
    {
     "data": {
      "text/plain": "<Figure size 432x288 with 1 Axes>",
      "image/png": "[encoded data removed]"
     },
     "metadata": {
      "needs_background": "light"
     },
     "output_type": "display_data"
    }
   ],
   "source": [
    "n_bins = 20\n",
    "labels = [\"original_rhymes\", \"removed_rhymes\", \"replaced_rhymes\"]\n",
    "data = [scores[label] for label in labels]\n",
    "plt.hist(data, bins=n_bins)\n",
    "plt.legend(labels)\n",
    "plt.xlabel(\"Rhyme scores\")\n",
    "plt.ylabel(\"n\")\n"
   ],
   "metadata": {
    "collapsed": false,
    "pycharm": {
     "name": "#%%\n",
     "is_executing": false
    }
   }
  },
  {
   "cell_type": "markdown",
   "source": [
    "We see that the metric behaves as expected: It is not random and when we\n",
    "remove words that are expected to rhyme, the score decreases.\n"
   ],
   "metadata": {
    "collapsed": false,
    "pycharm": {
     "name": "#%% md\n"
    }
   }
  }
 ],
 "metadata": {
  "kernelspec": {
   "display_name": "Python 3",
   "language": "python",
   "name": "python3"
  },
  "language_info": {
   "codemirror_mode": {
    "name": "ipython",
    "version": 2
   },
   "file_extension": ".py",
   "mimetype": "text/x-python",
   "name": "python",
   "nbconvert_exporter": "python",
   "pygments_lexer": "ipython2",
   "version": "2.7.6"
  },
  "pycharm": {
   "stem_cell": {
    "cell_type": "raw",
    "source": [],
    "metadata": {
     "collapsed": false
    }
   }
  }
 },
 "nbformat": 4,
 "nbformat_minor": 0
}