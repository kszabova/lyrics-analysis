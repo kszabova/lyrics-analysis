{
 "cells": [
  {
   "cell_type": "markdown",
   "metadata": {
    "collapsed": true,
    "pycharm": {
     "name": "#%% md\n"
    }
   },
   "source": [
    "## Comparing the proportion of rhyming lines\n",
    "\n",
    "In this notebook, we will use the metric rhymes() defined in\n",
    "lyrics_analysis.evaluation to compare the number of rhyming lines. We\n",
    "will compare lyrics divided by two criteria: first, we will compare\n",
    "individual genres, and second, we will compare actual song lyrics\n",
    "to lyrics with randomly shuffled lines.\n",
    "\n",
    "The rhymes() metric calculates the proportion of lines that rhyme\n",
    "with the previous line. This means that a song where first line rhymes\n",
    "with the second, the third one with the fourth one etc. would get \n",
    "a score of 0.5.\n",
    "\n",
    "The rhymes() function takes two parameters: song lyrics and rhyme_level,\n",
    "which is an integer indicating how many phonemes have to be identical\n",
    "for the words to be considered rhymes. The default is 2."
   ]
  },
  {
   "cell_type": "code",
   "execution_count": 1,
   "outputs": [],
   "source": [
    "import ijson\n",
    "import lyrics_analysis.evaluation\n",
    "import matplotlib.pyplot as plt\n",
    "%matplotlib inline"
   ],
   "metadata": {
    "collapsed": false,
    "pycharm": {
     "name": "#%%\n",
     "is_executing": false
    }
   }
  },
  {
   "cell_type": "markdown",
   "source": [
    "Define a generator that will retrieve song lyrics and its genre\n",
    "from a file."
   ],
   "metadata": {
    "collapsed": false,
    "pycharm": {
     "name": "#%% md\n"
    }
   }
  },
  {
   "cell_type": "code",
   "execution_count": 2,
   "outputs": [],
   "source": [
    "import ijson\n",
    "\n",
    "def retrieve_lyrics_and_genre(file):\n",
    "    with open(file) as f:\n",
    "        songs = ijson.items(f, 'item')\n",
    "        for song in songs:\n",
    "            yield song[\"lyrics\"], song[\"genre\"]\n",
    "            "
   ],
   "metadata": {
    "collapsed": false,
    "pycharm": {
     "name": "#%%\n",
     "is_executing": false
    }
   }
  },
  {
   "cell_type": "markdown",
   "source": [
    "Define a dictionary that will store the scores."
   ],
   "metadata": {
    "collapsed": false,
    "pycharm": {
     "name": "#%% md\n"
    }
   }
  },
  {
   "cell_type": "code",
   "execution_count": 3,
   "outputs": [],
   "source": [
    "scores_by_genre = {\n",
    "    \"rap\": [],\n",
    "    \"pop\": [],\n",
    "    \"rock\": [],\n",
    "    \"r-b\": [],\n",
    "    \"country\": []\n",
    "}"
   ],
   "metadata": {
    "collapsed": false,
    "pycharm": {
     "name": "#%%\n",
     "is_executing": false
    }
   }
  },
  {
   "cell_type": "markdown",
   "source": [
    "Now, parse the randomly selected set of n=10,000 songs and calculate\n",
    "the proportion of rhymes for each one."
   ],
   "metadata": {
    "collapsed": false,
    "pycharm": {
     "name": "#%% md\n"
    }
   }
  },
  {
   "cell_type": "code",
   "execution_count": null,
   "outputs": [
    {
     "name": "stdout",
     "text": [
      "hey\n"
     ],
     "output_type": "stream"
    }
   ],
   "source": [
    "# TODO: this will have to be improved because 10,000 songs is way too many \n",
    "for lyrics, genre in retrieve_lyrics_and_genre(\"../data/cleaned/eval_set_10000_lyrics.json\"):\n",
    "    score = lyrics_analysis.evaluation.rhymes(lyrics)\n",
    "    scores_by_genre[genre].append(score)\n",
    "    "
   ],
   "metadata": {
    "collapsed": false,
    "pycharm": {
     "name": "#%% \n",
     "is_executing": true
    }
   }
  },
  {
   "cell_type": "markdown",
   "source": [
    "Let's look at the average score for each genre."
   ],
   "metadata": {
    "collapsed": false,
    "pycharm": {
     "name": "#%% md\n"
    }
   }
  },
  {
   "cell_type": "code",
   "execution_count": null,
   "outputs": [],
   "source": [
    "for genre, scores in scores_by_genre.keys():\n",
    "    print(genre, sum(scores)/len(scores))\n",
    "    "
   ],
   "metadata": {
    "collapsed": false,
    "pycharm": {
     "name": "#%%\n",
     "is_executing": true
    }
   }
  },
  {
   "cell_type": "markdown",
   "source": [
    "Now, let's plot a histogram to see if there are any significant\n",
    "differences."
   ],
   "metadata": {
    "collapsed": false,
    "pycharm": {
     "name": "#%% md\n"
    }
   }
  },
  {
   "cell_type": "code",
   "execution_count": null,
   "outputs": [],
   "source": [
    "n_bins = 20\n",
    "genres = [\"rap\", \"pop\", \"rock\", \"r-b\", \"country\"]\n",
    "data = [scores_by_genre[genre] for genre in genres]\n",
    "plt.hist(data, bins=n_bins)\n",
    "plt.legend(genres)\n",
    "plt.xlabel(\"Score\")\n",
    "plt.ylabel(\"n\")\n"
   ],
   "metadata": {
    "collapsed": false,
    "pycharm": {
     "name": "#%%\n",
     "is_executing": true
    }
   }
  }
 ],
 "metadata": {
  "kernelspec": {
   "display_name": "Python 3",
   "language": "python",
   "name": "python3"
  },
  "language_info": {
   "codemirror_mode": {
    "name": "ipython",
    "version": 2
   },
   "file_extension": ".py",
   "mimetype": "text/x-python",
   "name": "python",
   "nbconvert_exporter": "python",
   "pygments_lexer": "ipython2",
   "version": "2.7.6"
  },
  "pycharm": {
   "stem_cell": {
    "cell_type": "raw",
    "source": [],
    "metadata": {
     "collapsed": false
    }
   }
  }
 },
 "nbformat": 4,
 "nbformat_minor": 0
}