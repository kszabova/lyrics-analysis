{
 "cells": [
  {
   "cell_type": "markdown",
   "metadata": {
    "collapsed": true,
    "pycharm": {
     "name": "#%% md\n"
    }
   },
   "source": [
    "## Comparing the proportion of rhyming lines\n",
    "\n",
    "In this notebook, we will use the metric rhymes() defined in\n",
    "lyrics_analysis.evaluation to compare the number of rhyming lines. We\n",
    "will compare lyrics divided by two criteria: first, we will compare\n",
    "individual genres, and second, we will compare actual song lyrics\n",
    "to lyrics with randomly shuffled lines.\n",
    "\n",
    "The rhymes() metric calculates the proportion of lines that rhyme\n",
    "with any other line in a window of certain size.\n",
    "\n",
    "The rhymes() function takes four parameters:\n",
    "+ *lyrics*: list of strings representing the lyrics of the song\n",
    "+ *rhyme_level*: how many last phonemes of two words have to be\n",
    "equal for them to be considered a rhyme\n",
    "+ *max_distance*: specifies how far a line can be to still be\n",
    "considered a rhyme; the window searched for rhymes is then of size\n",
    "2*max_distance+1\n",
    "+ *arpabet*: a structure storing word pronunciations"
   ]
  },
  {
   "cell_type": "code",
   "execution_count": 1,
   "outputs": [
    {
     "name": "stderr",
     "text": [
      "c:\\users\\kristina\\appdata\\local\\programs\\python\\python37\\lib\\site-packages\\ipykernel\\parentpoller.py:116: UserWarning: Parent poll failed.  If the frontend dies,\n",
      "                the kernel may be left running.  Please let us know\n",
      "                about your system (bitness, Python, etc.) at\n",
      "                ipython-dev@scipy.org\n",
      "  ipython-dev@scipy.org\"\"\")\n"
     ],
     "output_type": "stream"
    }
   ],
   "source": [
    "# import necessary modules\n",
    "import ijson\n",
    "import matplotlib.pyplot as plt\n",
    "%matplotlib inline\n",
    "\n",
    "from lyrics_analysis import Song\n",
    "import lyrics_analysis.evaluation"
   ],
   "metadata": {
    "collapsed": false,
    "pycharm": {
     "name": "#%%\n",
     "is_executing": false
    }
   }
  },
  {
   "cell_type": "markdown",
   "source": [
    "Define a generator that will retrieve data from a JSON file and yield\n",
    "a Song object with the relevant data for each entry."
   ],
   "metadata": {
    "collapsed": false,
    "pycharm": {
     "name": "#%% md\n"
    }
   }
  },
  {
   "cell_type": "code",
   "execution_count": 2,
   "outputs": [],
   "source": [
    "def retrieve_lyrics_and_genre(file):\n",
    "    with open(file) as f:\n",
    "        songs = ijson.items(f, 'item')\n",
    "        for song in songs:\n",
    "            yield Song(\n",
    "                song[\"lyrics\"], song[\"genre\"], song[\"artist\"]\n",
    "            )\n",
    "            "
   ],
   "metadata": {
    "collapsed": false,
    "pycharm": {
     "name": "#%%\n",
     "is_executing": false
    }
   }
  },
  {
   "cell_type": "markdown",
   "source": [
    "Define a dictionary that will store the scores."
   ],
   "metadata": {
    "collapsed": false,
    "pycharm": {
     "name": "#%% md\n"
    }
   }
  },
  {
   "cell_type": "code",
   "execution_count": 3,
   "outputs": [],
   "source": [
    "scores_by_genre = {\n",
    "    \"rap\": [],\n",
    "    \"pop\": [],\n",
    "    \"rock\": [],\n",
    "    \"r-b\": [],\n",
    "    \"country\": []\n",
    "}"
   ],
   "metadata": {
    "collapsed": false,
    "pycharm": {
     "name": "#%%\n",
     "is_executing": false
    }
   }
  },
  {
   "cell_type": "markdown",
   "source": [
    "Now, parse the randomly selected set of n=10,000 songs and calculate\n",
    "the proportion of rhymes for each one."
   ],
   "metadata": {
    "collapsed": false,
    "pycharm": {
     "name": "#%% md\n"
    }
   }
  },
  {
   "cell_type": "code",
   "execution_count": 4,
   "outputs": [],
   "source": [
    "for song in retrieve_lyrics_and_genre(\"../data/cleaned/eval_set_10000_lyrics.json\"):\n",
    "    score = lyrics_analysis.evaluation.rhymes(song.lyrics)\n",
    "    scores_by_genre[song.genre].append(score)\n",
    "    "
   ],
   "metadata": {
    "collapsed": false,
    "pycharm": {
     "name": "#%% \n",
     "is_executing": false
    }
   }
  },
  {
   "cell_type": "markdown",
   "source": [
    "Let's look at the average score for each genre."
   ],
   "metadata": {
    "collapsed": false,
    "pycharm": {
     "name": "#%% md\n"
    }
   }
  },
  {
   "cell_type": "code",
   "execution_count": 5,
   "outputs": [
    {
     "name": "stdout",
     "text": [
      "rap 0.2614384306665149\n",
      "pop 0.3090920827977727\n",
      "rock 0.2748586515232251\n",
      "r-b 0.3035525200934478\n",
      "country 0.26321495638584724\n"
     ],
     "output_type": "stream"
    }
   ],
   "source": [
    "for genre, scores in scores_by_genre.items():\n",
    "    print(genre, sum(scores)/len(scores))\n",
    "    "
   ],
   "metadata": {
    "collapsed": false,
    "pycharm": {
     "name": "#%%\n",
     "is_executing": false
    }
   }
  },
  {
   "cell_type": "markdown",
   "source": [
    "Now, let's plot a histogram to see if there are any significant\n",
    "differences."
   ],
   "metadata": {
    "collapsed": false,
    "pycharm": {
     "name": "#%% md\n"
    }
   }
  },
  {
   "cell_type": "code",
   "execution_count": 6,
   "outputs": [
    {
     "data": {
      "text/plain": "Text(0, 0.5, 'n')"
     },
     "metadata": {},
     "output_type": "execute_result",
     "execution_count": 6
    },
    {
     "data": {
      "text/plain": "<Figure size 432x288 with 1 Axes>",
      "image/png": "[encoded data removed]"
     },
     "metadata": {
      "needs_background": "light"
     },
     "output_type": "display_data"
    }
   ],
   "source": [
    "n_bins = 20\n",
    "genres = [\"rap\", \"pop\", \"rock\", \"r-b\", \"country\"]\n",
    "data = [scores_by_genre[genre] for genre in genres]\n",
    "plt.hist(data, bins=n_bins)\n",
    "plt.legend(genres)\n",
    "plt.xlabel(\"Score\")\n",
    "plt.ylabel(\"n\")"
   ],
   "metadata": {
    "collapsed": false,
    "pycharm": {
     "name": "#%%\n",
     "is_executing": false
    }
   }
  },
  {
   "cell_type": "markdown",
   "source": [
    "Now, let's compare song lyrics in the correct order to shuffled lyrics."
   ],
   "metadata": {
    "collapsed": false,
    "pycharm": {
     "name": "#%% md\n"
    }
   }
  },
  {
   "cell_type": "code",
   "execution_count": 7,
   "outputs": [],
   "source": [
    "song_scores = scores_by_genre[\"rap\"]\\\n",
    "            + scores_by_genre[\"pop\"]\\\n",
    "            + scores_by_genre[\"rock\"]\\\n",
    "            + scores_by_genre[\"r-b\"]\\\n",
    "            + scores_by_genre[\"country\"]\n",
    "            "
   ],
   "metadata": {
    "collapsed": false,
    "pycharm": {
     "name": "#%%\n",
     "is_executing": false
    }
   }
  },
  {
   "cell_type": "code",
   "execution_count": 8,
   "outputs": [],
   "source": [
    "shuffled_scores = []\n",
    "for song in retrieve_lyrics_and_genre(\"../data/cleaned/eval_set_10000_lyrics_shuffled.json\"):\n",
    "    shuffled_scores.append(lyrics_analysis.evaluation.rhymes(song.lyrics))\n"
   ],
   "metadata": {
    "collapsed": false,
    "pycharm": {
     "name": "#%%\n",
     "is_executing": false
    }
   }
  },
  {
   "cell_type": "markdown",
   "source": [
    "Finally, plot a histogram that compares the scores of original and\n",
    "shuffled song lyrics."
   ],
   "metadata": {
    "collapsed": false,
    "pycharm": {
     "name": "#%% md\n"
    }
   }
  },
  {
   "cell_type": "code",
   "execution_count": 9,
   "outputs": [
    {
     "data": {
      "text/plain": "Text(0, 0.5, 'n')"
     },
     "metadata": {},
     "output_type": "execute_result",
     "execution_count": 9
    },
    {
     "data": {
      "text/plain": "<Figure size 432x288 with 1 Axes>",
      "image/png": "[encoded data removed]"
     },
     "metadata": {
      "needs_background": "light"
     },
     "output_type": "display_data"
    }
   ],
   "source": [
    "n_bins = 20\n",
    "plt.hist([song_scores, shuffled_scores], bins=n_bins)\n",
    "plt.legend([\"original\", \"shuffled\"])\n",
    "plt.xlabel(\"Score\")\n",
    "plt.ylabel(\"n\")"
   ],
   "metadata": {
    "collapsed": false,
    "pycharm": {
     "name": "#%%\n",
     "is_executing": false
    }
   }
  }
 ],
 "metadata": {
  "kernelspec": {
   "display_name": "Python 3",
   "language": "python",
   "name": "python3"
  },
  "language_info": {
   "codemirror_mode": {
    "name": "ipython",
    "version": 2
   },
   "file_extension": ".py",
   "mimetype": "text/x-python",
   "name": "python",
   "nbconvert_exporter": "python",
   "pygments_lexer": "ipython2",
   "version": "2.7.6"
  },
  "pycharm": {
   "stem_cell": {
    "cell_type": "raw",
    "source": [],
    "metadata": {
     "collapsed": false
    }
   }
  }
 },
 "nbformat": 4,
 "nbformat_minor": 0
}