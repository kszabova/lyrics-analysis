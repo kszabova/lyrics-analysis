{
 "cells": [
  {
   "cell_type": "markdown",
   "source": [
    "# Test the Quality of the rhymes() Metric\n",
    "\n",
    "The goal of this notebook is to see how well the rhymes()\n",
    "metric from the lyrics_analysis module performs. To test\n",
    "this, we will check how well it ranks different\n",
    "evaluation sets.\n",
    "\n",
    "The idea is that while it might not rank individual songs\n",
    "in the same order as a human would, it should perform\n",
    "similarly on average. For example, one might expect that\n",
    "actual song lyrics will get a higher score on average\n",
    "than, for example, random texts.\n",
    "\n",
    "We will test the quality of our metric this way. We will\n",
    "have three sets of 1000 songs, three sets of 1000 lyrics\n",
    "with last words on lines randomly replaced by other words,\n",
    "and three sets of 1000 songs with last words on line\n",
    "randomly removed.\n",
    "\n",
    "We will not compare the sets from the same category,\n",
    "since they are expected to have a similar average score.\n",
    "Instead, we will check how many of the expected relations\n",
    "are preserved: all sets of actual songs should be scored\n",
    "higher than all other sets and all sets with replaced\n",
    "words should be scored higher than the sets with removed\n",
    "words. This gives us 27 expected ordered pairs. The\n",
    "number we will get says what proportion of these 27 pairs\n",
    "was preserved after running the metric."
   ],
   "metadata": {
    "collapsed": false,
    "pycharm": {
     "name": "#%% md\n"
    }
   }
  },
  {
   "cell_type": "markdown",
   "source": [
    "### Generating the data\n",
    "\n",
    "First, we will need to generate the evaluation sets.\n",
    "In the lyrics_analysis.sampler submodule, we have the\n",
    "function sample_n_songs_from_generator, which will come\n",
    "in handy now.\n",
    "\n",
    "We will use the entire dataset to select random songs.\n",
    "Some of them will be saved as-is, others will be modified\n",
    "so that they fit our needs."
   ],
   "metadata": {
    "collapsed": false,
    "pycharm": {
     "name": "#%% md\n"
    }
   }
  },
  {
   "cell_type": "code",
   "execution_count": 1,
   "outputs": [
    {
     "name": "stderr",
     "text": [
      "c:\\users\\kristina\\appdata\\local\\programs\\python\\python37\\lib\\site-packages\\ipykernel\\parentpoller.py:116: UserWarning: Parent poll failed.  If the frontend dies,\n",
      "                the kernel may be left running.  Please let us know\n",
      "                about your system (bitness, Python, etc.) at\n",
      "                ipython-dev@scipy.org\n",
      "  ipython-dev@scipy.org\"\"\")\n"
     ],
     "output_type": "stream"
    }
   ],
   "source": [
    "# imports\n",
    "import json\n",
    "import ijson\n",
    "import functools\n",
    "\n",
    "import lyrics_analysis"
   ],
   "metadata": {
    "collapsed": false,
    "pycharm": {
     "name": "#%%\n",
     "is_executing": false
    }
   }
  },
  {
   "cell_type": "code",
   "execution_count": 2,
   "outputs": [],
   "source": [
    "# define the generator that will yield JSON song data\n",
    "def generator():\n",
    "    with open(\"../data/cleaned/song_lyrics_english_only.json\") as file:\n",
    "        for item in ijson.items(file, \"item\"):\n",
    "            yield item\n",
    "            "
   ],
   "metadata": {
    "collapsed": false,
    "pycharm": {
     "name": "#%%\n",
     "is_executing": false
    }
   }
  },
  {
   "cell_type": "code",
   "execution_count": 3,
   "outputs": [
    {
     "name": "stdout",
     "text": [
      "Finished set #1 of _original\n",
      "Finished set #1 of _replaced_words\n",
      "Finished set #1 of _removed_words\n",
      "Finished set #2 of _original\n",
      "Finished set #2 of _replaced_words\n",
      "Finished set #2 of _removed_words\n",
      "Finished set #3 of _original\n",
      "Finished set #3 of _replaced_words\n",
      "Finished set #3 of _removed_words\n"
     ],
     "output_type": "stream"
    }
   ],
   "source": [
    "# set up what we want to generate\n",
    "funcs = [\n",
    "    lambda x: x,\n",
    "    lyrics_analysis.modifications.remove_last_word_on_line,\n",
    "    functools.partial(lyrics_analysis.modifications.replace_last_words_on_line, words=[\"porcupine\", \"armadillo\", \"anteater\"])\n",
    "]\n",
    "\n",
    "func_names = [\n",
    "    \"_original\",\n",
    "    \"_replaced_words\",\n",
    "    \"_removed_words\"\n",
    "]\n",
    "\n",
    "path = \"../data/metric_quality_tests/\"\n",
    "prefix = \"eval_set_\"\n",
    "\n",
    "# generate the files\n",
    "for i in range(3):\n",
    "    for func, func_name in zip(funcs, func_names):\n",
    "        dest = path + prefix + func_name + str(i+1) + \".json\"\n",
    "        examples = []\n",
    "        for example in lyrics_analysis.sampler.sample_n_songs_from_generator(1000, generator, total_n=100000):\n",
    "            example[\"lyrics\"] = func(example[\"lyrics\"])\n",
    "            examples.append(example)\n",
    "        with open(dest, 'w') as out_file:\n",
    "            json.dump(examples, out_file)\n",
    "        print(\"Finished set #%s of %s\" % (i+1, func_name))"
   ],
   "metadata": {
    "collapsed": false,
    "pycharm": {
     "name": "#%%\n",
     "is_executing": false
    }
   }
  },
  {
   "cell_type": "markdown",
   "source": [
    "### Testing the metric\n",
    "\n",
    "Now that we have our evaluation sets ready, we can proceed\n",
    "to testing the metric itself. In the lyrics_analysis.tests\n",
    "submodule, there is the function `calculate_metric_quality`\n",
    "that performs the test as described above. It takes a\n",
    "reference to the metric and a list of lists of song\n",
    "generators as parameters. The lists of generators have\n",
    "to be sorted from the lowest expected score.\n",
    "\n",
    "We need to create the song generators from the evaluation\n",
    "sets. For this, we will use the `_get_generator_from_file`\n",
    "helper function."
   ],
   "metadata": {
    "collapsed": false,
    "pycharm": {
     "name": "#%% md\n"
    }
   }
  },
  {
   "cell_type": "code",
   "execution_count": 8,
   "outputs": [],
   "source": [
    "evaluation_sets = [\n",
    "    [\"eval_set__removed_words1.json\",\n",
    "     \"eval_set__removed_words2.json\",\n",
    "     \"eval_set__removed_words3.json\"],\n",
    "    [\"eval_set__replaced_words1.json\",\n",
    "     \"eval_set__replaced_words2.json\",\n",
    "     \"eval_set__replaced_words3.json\"],\n",
    "    [\"eval_set__original1.json\",\n",
    "     \"eval_set__original2.json\",\n",
    "     \"eval_set__original3.json\"]\n",
    "]\n",
    "directory = \"../data/metric_quality_tests/\"\n",
    "\n",
    "eval_genarators = [\n",
    "    [\n",
    "        lyrics_analysis.helpers._get_generator_from_file(directory + file) for file in set\n",
    "    ]\n",
    "    for set in evaluation_sets\n",
    "]"
   ],
   "metadata": {
    "collapsed": false,
    "pycharm": {
     "name": "#%%\n",
     "is_executing": false
    }
   }
  },
  {
   "cell_type": "markdown",
   "source": [
    "Finally, we can test the metric."
   ],
   "metadata": {
    "collapsed": false,
    "pycharm": {
     "name": "#%% md\n"
    }
   }
  },
  {
   "cell_type": "code",
   "execution_count": 9,
   "outputs": [
    {
     "name": "stdout",
     "text": [
      "0.8518518518518519\n"
     ],
     "output_type": "stream"
    }
   ],
   "source": [
    "score = lyrics_analysis.tests.calculate_metric_quality(\n",
    "    lyrics_analysis.evaluation.rhymes,\n",
    "    eval_genarators\n",
    ")\n",
    "\n",
    "print(score)"
   ],
   "metadata": {
    "collapsed": false,
    "pycharm": {
     "name": "#%%\n",
     "is_executing": false
    }
   }
  },
  {
   "cell_type": "markdown",
   "source": [
    "We see that in 85% of the cases, the metric ranked the pair as expected."
   ],
   "metadata": {
    "collapsed": false,
    "pycharm": {
     "name": "#%% md\n"
    }
   }
  }
 ],
 "metadata": {
  "kernelspec": {
   "display_name": "Python 3",
   "language": "python",
   "name": "python3"
  },
  "language_info": {
   "codemirror_mode": {
    "name": "ipython",
    "version": 2
   },
   "file_extension": ".py",
   "mimetype": "text/x-python",
   "name": "python",
   "nbconvert_exporter": "python",
   "pygments_lexer": "ipython2",
   "version": "2.7.6"
  },
  "pycharm": {
   "stem_cell": {
    "cell_type": "raw",
    "source": [],
    "metadata": {
     "collapsed": false
    }
   }
  }
 },
 "nbformat": 4,
 "nbformat_minor": 0
}