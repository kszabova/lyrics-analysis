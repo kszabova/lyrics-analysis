{
 "cells": [
  {
   "cell_type": "markdown",
   "metadata": {},
   "source": [
    "We will be working with a dataset that contains about 600,000 song lyrics with metadata, stored in the file `../data/song_lyrics.json`. For the purpose of testing, I created the files `song_lyrics10.json`, `song_lyrics1000.json` and `song_lyrics10000.json` with a semi-randomly picked subset of 10, 1000 and 10,000 lyrics.\n",
    "\n",
    "Since the dataset is too large to be loaded into memory at once, we will be using the module `ijson` that creates a generator capable of returning the objects iteratively."
   ]
  },
  {
   "cell_type": "code",
   "execution_count": 1,
   "metadata": {},
   "outputs": [],
   "source": [
    "import ijson"
   ]
  },
  {
   "cell_type": "code",
   "execution_count": 2,
   "metadata": {},
   "outputs": [],
   "source": [
    "with open(\"../data/song_lyrics10.json\") as file:\n",
    "    objects = ijson.items(file, \"item\")  \n",
    "    # the 'item' prefix enables us to access each array element individually, rather than the whole array at once\n",
    "    \n",
    "    songs = [o for o in objects]"
   ]
  },
  {
   "cell_type": "markdown",
   "metadata": {},
   "source": [
    "Let's look at what data the objects contain."
   ]
  },
  {
   "cell_type": "code",
   "execution_count": 3,
   "metadata": {},
   "outputs": [],
   "source": [
    "from pprint import pprint"
   ]
  },
  {
   "cell_type": "code",
   "execution_count": 4,
   "metadata": {},
   "outputs": [
    {
     "name": "stdout",
     "output_type": "stream",
     "text": [
      "{'album': 'The Mountain',\n",
      " 'artist': 'Haken',\n",
      " 'charts': 'N/A',\n",
      " 'featured_artist': [],\n",
      " 'genre': 'rock',\n",
      " 'has_featured_annotation': 'false',\n",
      " 'has_featured_video': 'false',\n",
      " 'has_verified_callout': 'false',\n",
      " 'is_music': 'true',\n",
      " 'lyrics': ['Hearts will burn come what may  ',\n",
      "            'With lessons learned along the way  ',\n",
      "            'To free myself I make a choice  ',\n",
      "            'Just to be heard I lose my voice  ',\n",
      "            '  ',\n",
      "            'Finding strength in solitude  ',\n",
      "            'I fight to fly with much to prove  ',\n",
      "            \"Is this the way it's meant to be?  \",\n",
      "            'I risk it all I will not fall  ',\n",
      "            '  ',\n",
      "            'Chorus  ',\n",
      "            'Carry the weight of the world  ',\n",
      "            'On my shoulders  ',\n",
      "            'Rise to the challenge I set myself  ',\n",
      "            '  ',\n",
      "            'Solo  ',\n",
      "            '  ',\n",
      "            'Salvation waits without reprieve  ',\n",
      "            \"I'm on a razor's edge and it cuts my feet  \",\n",
      "            'As good as life will ever get  ',\n",
      "            'I wish that I could give it up and go home  ',\n",
      "            '  ',\n",
      "            '\"The blood drawn from the Atlas Stone  ',\n",
      "            'It draws a path from hell to home\"  ',\n",
      "            '  ',\n",
      "            'Fight to survive  ',\n",
      "            'Succumb to the path  ',\n",
      "            'Conquer the fear and nothing will fail  ',\n",
      "            'The quest to define this struggle of mine  ',\n",
      "            'Gravity defied  ',\n",
      "            'I climb beyond heights  ',\n",
      "            '  ',\n",
      "            'Chorus  ',\n",
      "            'Carry the weight of the world  ',\n",
      "            'On my shoulders  ',\n",
      "            'Rise to the challenge I set myself  ',\n",
      "            '  ',\n",
      "            'Solo  ',\n",
      "            '  ',\n",
      "            'Shadows of doubt creep into the light  ',\n",
      "            'A glimmer of hope never out of sight  ',\n",
      "            '  ',\n",
      "            'Out of sight  ',\n",
      "            '  ',\n",
      "            'Paralyzed under suppressive fire  ',\n",
      "            'Holding firm against a thin red line  ',\n",
      "            '  ',\n",
      "            'Out of mind  ',\n",
      "            '  ',\n",
      "            'Shadows of doubt creep into the light  ',\n",
      "            'A glimmer of hope never out of sight  ',\n",
      "            '  ',\n",
      "            'Out of sight  ',\n",
      "            '  ',\n",
      "            'Paralyzed under suppressive fire  ',\n",
      "            'Holding firm against a thin red line  ',\n",
      "            '  ',\n",
      "            'Out of mind  ',\n",
      "            '  ',\n",
      "            'Carry the weight of the world  ',\n",
      "            'Rise to the challenge I set myself  ',\n",
      "            '  ',\n",
      "            'Chorus  ',\n",
      "            'Carry the weight of the world  ',\n",
      "            'On my shoulders  ',\n",
      "            'Rise to the challenge I set myself',\n",
      "            '',\n",
      "            ''],\n",
      " 'producer': [],\n",
      " 'recording_location': [],\n",
      " 'rg_album_id': '156137',\n",
      " 'rg_artist_id': '356471',\n",
      " 'rg_created': '2015-08-01',\n",
      " 'rg_song_id': '2289738',\n",
      " 'rg_tag_id': '567',\n",
      " 'rg_type': 'Song',\n",
      " 'sampled_in': [],\n",
      " 'samples': [],\n",
      " 'title': 'Atlas Stone Lyrics',\n",
      " 'url': 'http://genius.com/Haken-atlas-stone-lyrics',\n",
      " 'writer': [],\n",
      " 'year': '2013-07-17}'}\n"
     ]
    }
   ],
   "source": [
    "pprint(songs[0])"
   ]
  },
  {
   "cell_type": "code",
   "execution_count": null,
   "metadata": {},
   "outputs": [],
   "source": []
  }
 ],
 "metadata": {
  "kernelspec": {
   "display_name": "Python 3",
   "language": "python",
   "name": "python3"
  },
  "language_info": {
   "codemirror_mode": {
    "name": "ipython",
    "version": 3
   },
   "file_extension": ".py",
   "mimetype": "text/x-python",
   "name": "python",
   "nbconvert_exporter": "python",
   "pygments_lexer": "ipython3",
   "version": "3.7.1"
  }
 },
 "nbformat": 4,
 "nbformat_minor": 2
}
